{
 "cells": [
  {
   "cell_type": "code",
   "execution_count": 1,
   "metadata": {},
   "outputs": [],
   "source": [
    "# Importing the needed libraries\n",
    "\n",
    "import os\n",
    "import matplotlib.pyplot as plt\n",
    "import numpy as np\n",
    "import pandas as pd\n",
    "import sys\n",
    "import pprint\n",
    "import csv\n",
    "import seaborn as sns \n",
    "\n",
    "%matplotlib inline \n"
   ]
  },
  {
   "cell_type": "code",
   "execution_count": 2,
   "metadata": {},
   "outputs": [],
   "source": [
    "# import Scikit-learn libraries\n",
    "from sklearn import linear_model\n",
    "from sklearn.model_selection import cross_val_score,train_test_split\n",
    "from sklearn.ensemble import RandomForestClassifier\n",
    "from sklearn.ensemble import ExtraTreesClassifier\n",
    "from sklearn.tree import DecisionTreeClassifier\n",
    "from sklearn import preprocessing\n",
    "from sklearn.utils import shuffle"
   ]
  },
  {
   "cell_type": "markdown",
   "metadata": {},
   "source": [
    "***"
   ]
  },
  {
   "cell_type": "markdown",
   "metadata": {},
   "source": [
    "### In here we are playing with the Normal data"
   ]
  },
  {
   "cell_type": "code",
   "execution_count": 3,
   "metadata": {},
   "outputs": [],
   "source": [
    "# load one file data from TE_process folder\n",
    "\n",
    "# with open('C:\\\\Users\\\\elmor\\\\My project\\\\capstonre-2019\\\\Ryerson-data-Science-certificate-capstone\\\\data\\\\TE_process\\\\d00.dat') as csvfile:\n",
    "#     reader = csvfile.readlines()\n",
    "#     #for line in reader:\n",
    "#     #    lines.append(line)\n",
    "\n",
    "#test=pd.read_csv('C:\\\\Users\\\\elmor\\\\My project\\\\capstonre-2019\\\\Ryerson-data-Science-certificate-capstone\\\\data\\\\TE_process\\\\d00.dat',sep='\\s+',header=None)  # use Regex for separator\n",
    "\n",
    "test=pd.read_csv('C:\\\\Users\\\\elmor\\\\My project\\\\capstonre-2019\\\\Ryerson-data-Science-certificate-capstone\\\\data\\\\TE_process\\\\d00.dat',header=None,delim_whitespace=True)   #using the delim parametr\n"
   ]
  },
  {
   "cell_type": "code",
   "execution_count": 4,
   "metadata": {},
   "outputs": [],
   "source": [
    "label=['XMEAS_1','XMEAS_2','XMEAS_3','XMEAS_4','XMEAS_5','XMEAS_6','XMEAS_7','XMEAS_8','XMEAS_9','XMEAS_10','XMEAS_11','XMEAS_12','XMEAS_13','XMEAS_14','XMEAS_15','XMEAS_16','XMEAS_17','XMEAS_18','XMEAS_19','XMEAS_20','XMEAS_21','XMEAS_22','XMEAS_23','XMEAS_24','XMEAS_25','XMEAS_26','XMEAS_27','XMEAS_28','XMEAS_29','XMEAS_30','XMEAS_31','XMEAS_32','XMEAS_33','XMEAS_34','XMEAS_35','XMEAS_36','XMEAS_37','XMEAS_38','XMEAS_39','XMEAS_40','XMEAS_41','XMV_1','XMV_2','XMV_3','XMV_4','XMV_5','XMV_6','XMV_7','XMV_8','XMV_9','XMV_10','XMV_11'\n",
    "]"
   ]
  },
  {
   "cell_type": "code",
   "execution_count": 5,
   "metadata": {},
   "outputs": [],
   "source": [
    "train=test.transpose()"
   ]
  },
  {
   "cell_type": "code",
   "execution_count": 6,
   "metadata": {},
   "outputs": [],
   "source": [
    "new_train=pd.DataFrame(np.row_stack([train.columns,train.values]),columns=label).drop([0]) #remove columns indeces"
   ]
  },
  {
   "cell_type": "code",
   "execution_count": 7,
   "metadata": {},
   "outputs": [
    {
     "data": {
      "text/html": [
       "<div>\n",
       "<style scoped>\n",
       "    .dataframe tbody tr th:only-of-type {\n",
       "        vertical-align: middle;\n",
       "    }\n",
       "\n",
       "    .dataframe tbody tr th {\n",
       "        vertical-align: top;\n",
       "    }\n",
       "\n",
       "    .dataframe thead th {\n",
       "        text-align: right;\n",
       "    }\n",
       "</style>\n",
       "<table border=\"1\" class=\"dataframe\">\n",
       "  <thead>\n",
       "    <tr style=\"text-align: right;\">\n",
       "      <th></th>\n",
       "      <th>XMEAS_1</th>\n",
       "      <th>XMEAS_2</th>\n",
       "      <th>XMEAS_3</th>\n",
       "      <th>XMEAS_4</th>\n",
       "      <th>XMEAS_5</th>\n",
       "      <th>XMEAS_6</th>\n",
       "      <th>XMEAS_7</th>\n",
       "      <th>XMEAS_8</th>\n",
       "      <th>XMEAS_9</th>\n",
       "      <th>XMEAS_10</th>\n",
       "      <th>...</th>\n",
       "      <th>XMV_2</th>\n",
       "      <th>XMV_3</th>\n",
       "      <th>XMV_4</th>\n",
       "      <th>XMV_5</th>\n",
       "      <th>XMV_6</th>\n",
       "      <th>XMV_7</th>\n",
       "      <th>XMV_8</th>\n",
       "      <th>XMV_9</th>\n",
       "      <th>XMV_10</th>\n",
       "      <th>XMV_11</th>\n",
       "    </tr>\n",
       "  </thead>\n",
       "  <tbody>\n",
       "    <tr>\n",
       "      <th>1</th>\n",
       "      <td>0.24987</td>\n",
       "      <td>3642.6</td>\n",
       "      <td>4539.6</td>\n",
       "      <td>9.2784</td>\n",
       "      <td>27.200</td>\n",
       "      <td>42.248</td>\n",
       "      <td>2704.2</td>\n",
       "      <td>75.492</td>\n",
       "      <td>120.40</td>\n",
       "      <td>0.33990</td>\n",
       "      <td>...</td>\n",
       "      <td>53.617</td>\n",
       "      <td>24.708</td>\n",
       "      <td>62.265</td>\n",
       "      <td>22.224</td>\n",
       "      <td>39.724</td>\n",
       "      <td>41.975</td>\n",
       "      <td>50.223</td>\n",
       "      <td>47.411</td>\n",
       "      <td>41.093</td>\n",
       "      <td>18.351</td>\n",
       "    </tr>\n",
       "    <tr>\n",
       "      <th>2</th>\n",
       "      <td>0.25118</td>\n",
       "      <td>3694.8</td>\n",
       "      <td>4513.8</td>\n",
       "      <td>9.2831</td>\n",
       "      <td>27.077</td>\n",
       "      <td>42.736</td>\n",
       "      <td>2705.4</td>\n",
       "      <td>74.628</td>\n",
       "      <td>120.41</td>\n",
       "      <td>0.33560</td>\n",
       "      <td>...</td>\n",
       "      <td>53.926</td>\n",
       "      <td>24.579</td>\n",
       "      <td>61.306</td>\n",
       "      <td>21.975</td>\n",
       "      <td>40.249</td>\n",
       "      <td>34.187</td>\n",
       "      <td>44.741</td>\n",
       "      <td>47.442</td>\n",
       "      <td>41.303</td>\n",
       "      <td>19.831</td>\n",
       "    </tr>\n",
       "    <tr>\n",
       "      <th>3</th>\n",
       "      <td>0.25185</td>\n",
       "      <td>3683.5</td>\n",
       "      <td>4504.9</td>\n",
       "      <td>9.4600</td>\n",
       "      <td>26.987</td>\n",
       "      <td>42.245</td>\n",
       "      <td>2705.2</td>\n",
       "      <td>74.315</td>\n",
       "      <td>120.42</td>\n",
       "      <td>0.33761</td>\n",
       "      <td>...</td>\n",
       "      <td>54.032</td>\n",
       "      <td>24.521</td>\n",
       "      <td>60.532</td>\n",
       "      <td>21.640</td>\n",
       "      <td>40.003</td>\n",
       "      <td>43.628</td>\n",
       "      <td>46.032</td>\n",
       "      <td>47.574</td>\n",
       "      <td>41.520</td>\n",
       "      <td>20.426</td>\n",
       "    </tr>\n",
       "  </tbody>\n",
       "</table>\n",
       "<p>3 rows × 52 columns</p>\n",
       "</div>"
      ],
      "text/plain": [
       "   XMEAS_1  XMEAS_2  XMEAS_3  XMEAS_4  XMEAS_5  XMEAS_6  XMEAS_7  XMEAS_8  \\\n",
       "1  0.24987   3642.6   4539.6   9.2784   27.200   42.248   2704.2   75.492   \n",
       "2  0.25118   3694.8   4513.8   9.2831   27.077   42.736   2705.4   74.628   \n",
       "3  0.25185   3683.5   4504.9   9.4600   26.987   42.245   2705.2   74.315   \n",
       "\n",
       "   XMEAS_9  XMEAS_10  ...   XMV_2   XMV_3   XMV_4   XMV_5   XMV_6   XMV_7  \\\n",
       "1   120.40   0.33990  ...  53.617  24.708  62.265  22.224  39.724  41.975   \n",
       "2   120.41   0.33560  ...  53.926  24.579  61.306  21.975  40.249  34.187   \n",
       "3   120.42   0.33761  ...  54.032  24.521  60.532  21.640  40.003  43.628   \n",
       "\n",
       "    XMV_8   XMV_9  XMV_10  XMV_11  \n",
       "1  50.223  47.411  41.093  18.351  \n",
       "2  44.741  47.442  41.303  19.831  \n",
       "3  46.032  47.574  41.520  20.426  \n",
       "\n",
       "[3 rows x 52 columns]"
      ]
     },
     "execution_count": 7,
     "metadata": {},
     "output_type": "execute_result"
    }
   ],
   "source": [
    "new_train.head(3)"
   ]
  },
  {
   "cell_type": "code",
   "execution_count": null,
   "metadata": {},
   "outputs": [],
   "source": []
  },
  {
   "cell_type": "code",
   "execution_count": 8,
   "metadata": {},
   "outputs": [
    {
     "data": {
      "text/plain": [
       "(500, 52)"
      ]
     },
     "execution_count": 8,
     "metadata": {},
     "output_type": "execute_result"
    }
   ],
   "source": [
    "new_train.shape"
   ]
  },
  {
   "cell_type": "code",
   "execution_count": 9,
   "metadata": {},
   "outputs": [
    {
     "data": {
      "text/plain": [
       "XMEAS_1    0\n",
       "XMEAS_2    0\n",
       "XMEAS_3    0\n",
       "dtype: int64"
      ]
     },
     "execution_count": 9,
     "metadata": {},
     "output_type": "execute_result"
    }
   ],
   "source": [
    "new_train.isnull().sum().head(3) # test for NULL"
   ]
  },
  {
   "cell_type": "code",
   "execution_count": 10,
   "metadata": {},
   "outputs": [
    {
     "data": {
      "text/plain": [
       "XMEAS_1    0\n",
       "XMEAS_2    0\n",
       "XMEAS_3    0\n",
       "dtype: int64"
      ]
     },
     "execution_count": 10,
     "metadata": {},
     "output_type": "execute_result"
    }
   ],
   "source": [
    "new_train.isna().sum().head(3) #test is NA"
   ]
  },
  {
   "cell_type": "code",
   "execution_count": 11,
   "metadata": {},
   "outputs": [
    {
     "data": {
      "text/html": [
       "<div>\n",
       "<style scoped>\n",
       "    .dataframe tbody tr th:only-of-type {\n",
       "        vertical-align: middle;\n",
       "    }\n",
       "\n",
       "    .dataframe tbody tr th {\n",
       "        vertical-align: top;\n",
       "    }\n",
       "\n",
       "    .dataframe thead th {\n",
       "        text-align: right;\n",
       "    }\n",
       "</style>\n",
       "<table border=\"1\" class=\"dataframe\">\n",
       "  <thead>\n",
       "    <tr style=\"text-align: right;\">\n",
       "      <th></th>\n",
       "      <th>count</th>\n",
       "      <th>mean</th>\n",
       "      <th>std</th>\n",
       "      <th>min</th>\n",
       "      <th>25%</th>\n",
       "      <th>50%</th>\n",
       "      <th>75%</th>\n",
       "      <th>max</th>\n",
       "    </tr>\n",
       "  </thead>\n",
       "  <tbody>\n",
       "    <tr>\n",
       "      <th>XMEAS_1</th>\n",
       "      <td>500.0</td>\n",
       "      <td>0.251138</td>\n",
       "      <td>0.028551</td>\n",
       "      <td>0.18082</td>\n",
       "      <td>0.23059</td>\n",
       "      <td>0.250245</td>\n",
       "      <td>0.269275</td>\n",
       "      <td>0.34285</td>\n",
       "    </tr>\n",
       "    <tr>\n",
       "      <th>XMEAS_2</th>\n",
       "      <td>500.0</td>\n",
       "      <td>3663.537800</td>\n",
       "      <td>32.031586</td>\n",
       "      <td>3559.50000</td>\n",
       "      <td>3643.05000</td>\n",
       "      <td>3663.650000</td>\n",
       "      <td>3684.625000</td>\n",
       "      <td>3754.70000</td>\n",
       "    </tr>\n",
       "    <tr>\n",
       "      <th>XMEAS_3</th>\n",
       "      <td>500.0</td>\n",
       "      <td>4511.517200</td>\n",
       "      <td>31.724556</td>\n",
       "      <td>4419.80000</td>\n",
       "      <td>4488.57500</td>\n",
       "      <td>4512.300000</td>\n",
       "      <td>4534.700000</td>\n",
       "      <td>4600.70000</td>\n",
       "    </tr>\n",
       "  </tbody>\n",
       "</table>\n",
       "</div>"
      ],
      "text/plain": [
       "         count         mean        std         min         25%          50%  \\\n",
       "XMEAS_1  500.0     0.251138   0.028551     0.18082     0.23059     0.250245   \n",
       "XMEAS_2  500.0  3663.537800  32.031586  3559.50000  3643.05000  3663.650000   \n",
       "XMEAS_3  500.0  4511.517200  31.724556  4419.80000  4488.57500  4512.300000   \n",
       "\n",
       "                 75%         max  \n",
       "XMEAS_1     0.269275     0.34285  \n",
       "XMEAS_2  3684.625000  3754.70000  \n",
       "XMEAS_3  4534.700000  4600.70000  "
      ]
     },
     "execution_count": 11,
     "metadata": {},
     "output_type": "execute_result"
    }
   ],
   "source": [
    "#new_train.info()\n",
    "new_train.describe().transpose().head(3)"
   ]
  },
  {
   "cell_type": "markdown",
   "metadata": {},
   "source": [
    "## test with one datset"
   ]
  },
  {
   "cell_type": "markdown",
   "metadata": {},
   "source": [
    "load one fault datset for the testing. we will test fault-01 and build the model around it"
   ]
  },
  {
   "cell_type": "code",
   "execution_count": 83,
   "metadata": {},
   "outputs": [],
   "source": [
    "#x=plt.hist(new_train.iloc[:,0])\n",
    "#new_train.iloc[:,0]"
   ]
  },
  {
   "cell_type": "code",
   "execution_count": 12,
   "metadata": {},
   "outputs": [
    {
     "data": {
      "image/png": "[encoded data removed]",
      "text/plain": [
       "<Figure size 1080x1800 with 3 Axes>"
      ]
     },
     "metadata": {
      "needs_background": "light"
     },
     "output_type": "display_data"
    }
   ],
   "source": [
    "# Plotting the data distribution for all variables\n",
    "\n",
    "fig=plt.figure(figsize=(15,25))\n",
    "fig.subplots_adjust(wspace=0.2,hspace=1)\n",
    "for i in range(0,3):\n",
    "    plt.subplot(18,3,i+1)\n",
    "    plt.hist(new_train.iloc[:,i])\n",
    "    plt.title(new_train.columns[i],loc='center')\n",
    "    "
   ]
  },
  {
   "cell_type": "code",
   "execution_count": 101,
   "metadata": {},
   "outputs": [],
   "source": [
    "# boxplots for the data\n",
    "# fig2=plt.figure(figsize=(15,25))\n",
    "# fig2.subplots_adjust(wspace=0.2,hspace=1)\n",
    "# for i in range(0,52):\n",
    "#     plt.subplot(18,3,i+1)\n",
    "#     plt.boxplot(new_train.iloc[:,i])\n",
    "#     plt.title(new_train.columns[i],loc='center')\n",
    "    "
   ]
  },
  {
   "cell_type": "code",
   "execution_count": 14,
   "metadata": {},
   "outputs": [
    {
     "data": {
      "text/html": [
       "<div>\n",
       "<style scoped>\n",
       "    .dataframe tbody tr th:only-of-type {\n",
       "        vertical-align: middle;\n",
       "    }\n",
       "\n",
       "    .dataframe tbody tr th {\n",
       "        vertical-align: top;\n",
       "    }\n",
       "\n",
       "    .dataframe thead th {\n",
       "        text-align: right;\n",
       "    }\n",
       "</style>\n",
       "<table border=\"1\" class=\"dataframe\">\n",
       "  <thead>\n",
       "    <tr style=\"text-align: right;\">\n",
       "      <th></th>\n",
       "      <th>XMEAS_1</th>\n",
       "      <th>XMEAS_2</th>\n",
       "      <th>XMEAS_3</th>\n",
       "      <th>XMEAS_4</th>\n",
       "      <th>XMEAS_5</th>\n",
       "      <th>XMEAS_6</th>\n",
       "      <th>XMEAS_7</th>\n",
       "      <th>XMEAS_8</th>\n",
       "      <th>XMEAS_9</th>\n",
       "      <th>XMEAS_10</th>\n",
       "      <th>...</th>\n",
       "      <th>XMV_2</th>\n",
       "      <th>XMV_3</th>\n",
       "      <th>XMV_4</th>\n",
       "      <th>XMV_5</th>\n",
       "      <th>XMV_6</th>\n",
       "      <th>XMV_7</th>\n",
       "      <th>XMV_8</th>\n",
       "      <th>XMV_9</th>\n",
       "      <th>XMV_10</th>\n",
       "      <th>XMV_11</th>\n",
       "    </tr>\n",
       "  </thead>\n",
       "  <tbody>\n",
       "    <tr>\n",
       "      <th>XMEAS_1</th>\n",
       "      <td>1.000000</td>\n",
       "      <td>-0.053143</td>\n",
       "      <td>0.087308</td>\n",
       "      <td>-0.125095</td>\n",
       "      <td>-0.034186</td>\n",
       "      <td>0.096849</td>\n",
       "      <td>0.037762</td>\n",
       "      <td>-0.000808</td>\n",
       "      <td>0.033830</td>\n",
       "      <td>-0.095712</td>\n",
       "      <td>...</td>\n",
       "      <td>-0.157492</td>\n",
       "      <td>0.996026</td>\n",
       "      <td>0.011927</td>\n",
       "      <td>-0.168890</td>\n",
       "      <td>-0.073512</td>\n",
       "      <td>-0.016769</td>\n",
       "      <td>-0.067947</td>\n",
       "      <td>0.019396</td>\n",
       "      <td>-0.008225</td>\n",
       "      <td>0.030122</td>\n",
       "    </tr>\n",
       "    <tr>\n",
       "      <th>XMEAS_2</th>\n",
       "      <td>-0.053143</td>\n",
       "      <td>1.000000</td>\n",
       "      <td>-0.080170</td>\n",
       "      <td>0.002743</td>\n",
       "      <td>-0.029287</td>\n",
       "      <td>0.089881</td>\n",
       "      <td>0.040008</td>\n",
       "      <td>0.033844</td>\n",
       "      <td>0.306023</td>\n",
       "      <td>0.029428</td>\n",
       "      <td>...</td>\n",
       "      <td>0.039268</td>\n",
       "      <td>-0.050384</td>\n",
       "      <td>0.031489</td>\n",
       "      <td>-0.017904</td>\n",
       "      <td>0.023872</td>\n",
       "      <td>-0.033287</td>\n",
       "      <td>-0.005640</td>\n",
       "      <td>-0.004802</td>\n",
       "      <td>0.263422</td>\n",
       "      <td>0.015172</td>\n",
       "    </tr>\n",
       "    <tr>\n",
       "      <th>XMEAS_3</th>\n",
       "      <td>0.087308</td>\n",
       "      <td>-0.080170</td>\n",
       "      <td>1.000000</td>\n",
       "      <td>-0.064671</td>\n",
       "      <td>0.008701</td>\n",
       "      <td>0.017448</td>\n",
       "      <td>0.172244</td>\n",
       "      <td>0.023339</td>\n",
       "      <td>-0.038357</td>\n",
       "      <td>-0.035725</td>\n",
       "      <td>...</td>\n",
       "      <td>0.122340</td>\n",
       "      <td>0.085266</td>\n",
       "      <td>0.035843</td>\n",
       "      <td>0.076345</td>\n",
       "      <td>-0.021281</td>\n",
       "      <td>-0.009332</td>\n",
       "      <td>-0.045860</td>\n",
       "      <td>-0.108795</td>\n",
       "      <td>0.004047</td>\n",
       "      <td>0.031235</td>\n",
       "    </tr>\n",
       "    <tr>\n",
       "      <th>XMEAS_4</th>\n",
       "      <td>-0.125095</td>\n",
       "      <td>0.002743</td>\n",
       "      <td>-0.064671</td>\n",
       "      <td>1.000000</td>\n",
       "      <td>-0.019997</td>\n",
       "      <td>0.000929</td>\n",
       "      <td>0.144486</td>\n",
       "      <td>-0.059398</td>\n",
       "      <td>0.061911</td>\n",
       "      <td>0.055488</td>\n",
       "      <td>...</td>\n",
       "      <td>-0.052638</td>\n",
       "      <td>-0.123406</td>\n",
       "      <td>-0.268673</td>\n",
       "      <td>0.136402</td>\n",
       "      <td>0.028164</td>\n",
       "      <td>-0.042984</td>\n",
       "      <td>0.057462</td>\n",
       "      <td>0.090396</td>\n",
       "      <td>0.062539</td>\n",
       "      <td>0.008467</td>\n",
       "    </tr>\n",
       "    <tr>\n",
       "      <th>XMEAS_5</th>\n",
       "      <td>-0.034186</td>\n",
       "      <td>-0.029287</td>\n",
       "      <td>0.008701</td>\n",
       "      <td>-0.019997</td>\n",
       "      <td>1.000000</td>\n",
       "      <td>-0.070870</td>\n",
       "      <td>0.005314</td>\n",
       "      <td>0.041767</td>\n",
       "      <td>-0.003187</td>\n",
       "      <td>0.004439</td>\n",
       "      <td>...</td>\n",
       "      <td>-0.009292</td>\n",
       "      <td>-0.032946</td>\n",
       "      <td>-0.014366</td>\n",
       "      <td>0.193271</td>\n",
       "      <td>0.000694</td>\n",
       "      <td>0.031186</td>\n",
       "      <td>-0.024664</td>\n",
       "      <td>-0.023938</td>\n",
       "      <td>0.002518</td>\n",
       "      <td>0.032227</td>\n",
       "    </tr>\n",
       "  </tbody>\n",
       "</table>\n",
       "<p>5 rows × 52 columns</p>\n",
       "</div>"
      ],
      "text/plain": [
       "          XMEAS_1   XMEAS_2   XMEAS_3   XMEAS_4   XMEAS_5   XMEAS_6   XMEAS_7  \\\n",
       "XMEAS_1  1.000000 -0.053143  0.087308 -0.125095 -0.034186  0.096849  0.037762   \n",
       "XMEAS_2 -0.053143  1.000000 -0.080170  0.002743 -0.029287  0.089881  0.040008   \n",
       "XMEAS_3  0.087308 -0.080170  1.000000 -0.064671  0.008701  0.017448  0.172244   \n",
       "XMEAS_4 -0.125095  0.002743 -0.064671  1.000000 -0.019997  0.000929  0.144486   \n",
       "XMEAS_5 -0.034186 -0.029287  0.008701 -0.019997  1.000000 -0.070870  0.005314   \n",
       "\n",
       "          XMEAS_8   XMEAS_9  XMEAS_10  ...     XMV_2     XMV_3     XMV_4  \\\n",
       "XMEAS_1 -0.000808  0.033830 -0.095712  ... -0.157492  0.996026  0.011927   \n",
       "XMEAS_2  0.033844  0.306023  0.029428  ...  0.039268 -0.050384  0.031489   \n",
       "XMEAS_3  0.023339 -0.038357 -0.035725  ...  0.122340  0.085266  0.035843   \n",
       "XMEAS_4 -0.059398  0.061911  0.055488  ... -0.052638 -0.123406 -0.268673   \n",
       "XMEAS_5  0.041767 -0.003187  0.004439  ... -0.009292 -0.032946 -0.014366   \n",
       "\n",
       "            XMV_5     XMV_6     XMV_7     XMV_8     XMV_9    XMV_10    XMV_11  \n",
       "XMEAS_1 -0.168890 -0.073512 -0.016769 -0.067947  0.019396 -0.008225  0.030122  \n",
       "XMEAS_2 -0.017904  0.023872 -0.033287 -0.005640 -0.004802  0.263422  0.015172  \n",
       "XMEAS_3  0.076345 -0.021281 -0.009332 -0.045860 -0.108795  0.004047  0.031235  \n",
       "XMEAS_4  0.136402  0.028164 -0.042984  0.057462  0.090396  0.062539  0.008467  \n",
       "XMEAS_5  0.193271  0.000694  0.031186 -0.024664 -0.023938  0.002518  0.032227  \n",
       "\n",
       "[5 rows x 52 columns]"
      ]
     },
     "execution_count": 14,
     "metadata": {},
     "output_type": "execute_result"
    }
   ],
   "source": [
    "new_train.corr().head()"
   ]
  },
  {
   "cell_type": "markdown",
   "metadata": {},
   "source": [
    "### Data standardization"
   ]
  },
  {
   "cell_type": "code",
   "execution_count": 15,
   "metadata": {},
   "outputs": [],
   "source": [
    "#get the columns names\n",
    "names=new_train.columns"
   ]
  },
  {
   "cell_type": "code",
   "execution_count": 16,
   "metadata": {},
   "outputs": [],
   "source": [
    "#create a scaler object\n",
    "scaler=preprocessing.StandardScaler()"
   ]
  },
  {
   "cell_type": "code",
   "execution_count": 21,
   "metadata": {},
   "outputs": [],
   "source": [
    "# fit the data on the scaler\n",
    "scal_train=scaler.fit_transform(new_train)"
   ]
  },
  {
   "cell_type": "code",
   "execution_count": 22,
   "metadata": {},
   "outputs": [],
   "source": [
    "scaled_train=pd.DataFrame(scal_train,columns=names)"
   ]
  },
  {
   "cell_type": "code",
   "execution_count": 24,
   "metadata": {},
   "outputs": [
    {
     "data": {
      "image/png": "[encoded data removed]",
      "text/plain": [
       "<Figure size 1080x1800 with 10 Axes>"
      ]
     },
     "metadata": {
      "needs_background": "light"
     },
     "output_type": "display_data"
    }
   ],
   "source": [
    "fig=plt.figure(figsize=(15,25))\n",
    "fig.subplots_adjust(wspace=0.2,hspace=1)\n",
    "for i in range(0,10):\n",
    "    plt.subplot(18,3,i+1)\n",
    "    plt.hist(scaled_train.iloc[:,i])\n",
    "    plt.title(scaled_train.columns[i],loc='center')"
   ]
  },
  {
   "cell_type": "code",
   "execution_count": 29,
   "metadata": {},
   "outputs": [
    {
     "data": {
      "text/plain": [
       "<matplotlib.axes._subplots.AxesSubplot at 0x1dd9985d978>"
      ]
     },
     "execution_count": 29,
     "metadata": {},
     "output_type": "execute_result"
    },
    {
     "data": {
      "image/png": "[encoded data removed]",
      "text/plain": [
       "<Figure size 432x288 with 1 Axes>"
      ]
     },
     "metadata": {
      "needs_background": "light"
     },
     "output_type": "display_data"
    }
   ],
   "source": [
    "scaled_train.boxplot([\"XMEAS_1\"])"
   ]
  },
  {
   "cell_type": "markdown",
   "metadata": {},
   "source": [
    "***\n",
    "***"
   ]
  },
  {
   "cell_type": "markdown",
   "metadata": {},
   "source": [
    "## contstract our Anomlay datasets\n",
    "#### we will only use the 7 step variables - Categorical label is used not numerical"
   ]
  },
  {
   "cell_type": "code",
   "execution_count": 27,
   "metadata": {},
   "outputs": [],
   "source": [
    "# Import the data\n",
    "\n",
    "#test=pd.read_csv('C:\\\\Users\\\\elmor\\\\My project\\\\capstonre-2019\\\\Ryerson-data-Science-certificate-capstone\\\\data\\\\TE_process\\\\d00.dat',header=None,delim_whitespace=True)   #using the delim parametr\n",
    "#data_label=0\n",
    "\n",
    "temp_df=[]\n",
    "\n",
    "label=['XMEAS_1','XMEAS_2','XMEAS_3','XMEAS_4','XMEAS_5','XMEAS_6','XMEAS_7','XMEAS_8','XMEAS_9',\\\n",
    "       'XMEAS_10','XMEAS_11','XMEAS_12','XMEAS_13','XMEAS_14','XMEAS_15','XMEAS_16','XMEAS_17',\\\n",
    "       'XMEAS_18','XMEAS_19','XMEAS_20','XMEAS_21','XMEAS_22','XMEAS_23','XMEAS_24','XMEAS_25','XMEAS_26',\\\n",
    "       'XMEAS_27','XMEAS_28','XMEAS_29','XMEAS_30','XMEAS_31','XMEAS_32','XMEAS_33','XMEAS_34','XMEAS_35',\\\n",
    "       'XMEAS_36','XMEAS_37','XMEAS_38','XMEAS_39','XMEAS_40','XMEAS_41','XMV_1','XMV_2','XMV_3','XMV_4',\\\n",
    "       'XMV_5','XMV_6','XMV_7','XMV_8','XMV_9','XMV_10','XMV_11'\n",
    "]\n",
    "DATADIR=\"C:\\\\Users\\\\elmor\\\\My project\\\\capstonre-2019\\\\Ryerson-data-Science-certificate-capstone\\\\data\\\\processed data\\\\Random anomalies\"\n",
    "\n",
    "test=os.listdir(DATADIR)\n",
    "\n",
    "# load the Norml data training and testing\n",
    "# when we are loading the other anomalies we will not load the Normal anomalies given that the model knew them\n",
    "\n",
    "#Train_N=pd.read_csv('C:\\\\Users\\\\elmor\\\\My project\\\\capstonre-2019\\\\Ryerson-data-Science-certificate-capstone\\\\data\\\\processed data\\\\7 first ananomalies\\\\d00.dat',header=None,delim_whitespace=True).transpose()   #using the delim parametr\n",
    "\n",
    "# ----- train=test.transpose()\n",
    "\n",
    "#Test_N=pd.read_csv('C:\\\\Users\\\\elmor\\\\My project\\\\capstonre-2019\\\\Ryerson-data-Science-certificate-capstone\\\\data\\\\processed data\\\\7 first ananomalies\\\\d00_te.dat',header=None,delim_whitespace=True)   #using the delim parametr\n",
    "\n",
    "\n",
    "# final_df=pd.concat([Train_N,Test_N],axis=0,join='outer',ignore_index=True)\n",
    "\n",
    "# final_df=pd.DataFrame(np.row_stack([final_df.columns,final_df.values]),columns=label).drop([0])\n",
    "\n",
    "# final_df['label']=\"Norm\"\n",
    "\n",
    "\n",
    "# temp_df.append(final_df)\n",
    "\n",
    "#---- final_df=[Train_N,Test_N]\n",
    "\n",
    "for category in test[0:9]:\n",
    "    data_load=pd.read_csv(os.path.join(DATADIR,category),header=None,delim_whitespace=True)\n",
    "    if category[4:6]=='te':\n",
    "        data_load_tn=data_load[:160]\n",
    "        data_load_tn=pd.DataFrame(np.row_stack([data_load_tn.columns,data_load_tn.values]),columns=label).drop([0])\n",
    "        data_load_tn['label']=\"Norm\"\n",
    "        temp_df.append(data_load_tn)\n",
    "        \n",
    "        data_load_tf=data_load[160:]\n",
    "        data_load_tf=pd.DataFrame(np.row_stack([data_load_tf.columns,data_load_tf.values]),columns=label).drop([0])\n",
    "        data_load_tf['label']=[category[0:3]]*data_load_tf.shape[0]\n",
    "        temp_df.append(data_load_tf)\n",
    "    else:\n",
    "        data_load_tr=pd.DataFrame(np.row_stack([data_load.columns,data_load.values]),columns=label).drop([0])\n",
    "        data_load_tr['label']=[category[0:3]]*data_load_tr.shape[0]\n",
    "        temp_df.append(data_load_tr)\n",
    "        \n",
    "#----------------------\n",
    "                  \n",
    "        \n",
    "#     data_label=\n",
    "    \n",
    "#     final_df.append(data_transf)\n",
    "\n",
    "\n",
    "\n",
    "#     print(category)\n",
    "#     print(\"shape is {}\".format(data_transf.shape))\n",
    "\n",
    "   \n",
    "    \n",
    "#     mypath=os.path.join(DATADIR,category) # get to the directory of images \n",
    "#     for i in os.listdir(path=mypath):     # listing all items in the dir\n",
    "#         img_array=cv2.imread(os.path.join(mypath,i),cv2.IMREAD_GRAYSCALE) # cv2.COLOR_BGR2RGB) # by default it reads images into array/matrix\n",
    "#         plt.imshow(img_array,cmap='gray')\n",
    "#         #ii+=ii\n",
    "#         #print(i)\n",
    "#         #if ii==3:\n",
    "#         break\n",
    "#     break"
   ]
  },
  {
   "cell_type": "code",
   "execution_count": 3,
   "metadata": {},
   "outputs": [],
   "source": [
    "temp_df[2]"
   ]
  },
  {
   "cell_type": "code",
   "execution_count": 266,
   "metadata": {},
   "outputs": [],
   "source": [
    "#temp_df=[]\n",
    "# temp_df.append(final_df)\n",
    "\n",
    "# for category in test[2:30]:\n",
    "#     data_load=pd.read_csv(os.path.join(DATADIR,category),header=None,delim_whitespace=True)\n",
    "#     if category[4:6]=='te':\n",
    "#         data_load_tn=data_load[:160]\n",
    "#         data_load_tn=pd.DataFrame(np.row_stack([data_load_tn.columns,data_load_tn.values]),columns=label).drop([0])\n",
    "#         data_load_tn['label']=0\n",
    "#         temp_df.append(data_load_tn)\n",
    "        \n",
    "#         data_load_tf=data_load[160:]\n",
    "#         data_load_tf=pd.DataFrame(np.row_stack([data_load_tf.columns,data_load_tf.values]),columns=label).drop([0])\n",
    "#         data_load_tf['label']=[int(category[2])]*data_load_tf.shape[0]\n",
    "#         temp_df.append(data_load_tf)\n",
    "#     else:\n",
    "#         data_load_tr=pd.DataFrame(np.row_stack([data_load.columns,data_load.values]),columns=label).drop([0])\n",
    "#         data_load_tr['label']=[int(category[2])]*data_load_tr.shape[0]\n",
    "#         temp_df.append(data_load_tr)"
   ]
  },
  {
   "cell_type": "code",
   "execution_count": 32,
   "metadata": {},
   "outputs": [],
   "source": [
    "# join all the datasets into one\n",
    "# we have now data of 7 anaomalies + Normal all are labeled  0 = Normal, 1-7 for faults\n",
    "\n",
    "work_df=pd.concat(temp_df,axis=0,join='outer',ignore_index=True)"
   ]
  },
  {
   "cell_type": "code",
   "execution_count": 33,
   "metadata": {},
   "outputs": [],
   "source": [
    "# Standardization mean=0 and sd =1\n",
    "\n",
    "names=work_df.iloc[:,:-1].columns\n",
    "scaler=preprocessing.StandardScaler()\n",
    "scal_train=scaler.fit_transform(work_df.iloc[:,:-1])\n",
    "work_df.iloc[:,:-1]=pd.DataFrame(scal_train,columns=names)"
   ]
  },
  {
   "cell_type": "code",
   "execution_count": 34,
   "metadata": {},
   "outputs": [
    {
     "data": {
      "image/png": "[encoded data removed]",
      "text/plain": [
       "<Figure size 1080x1800 with 10 Axes>"
      ]
     },
     "metadata": {
      "needs_background": "light"
     },
     "output_type": "display_data"
    }
   ],
   "source": [
    "# Plot samples of new data for display\n",
    "\n",
    "fig=plt.figure(figsize=(15,25))\n",
    "fig.subplots_adjust(wspace=0.2,hspace=1)\n",
    "for i in range(0,10):\n",
    "    plt.subplot(18,3,i+1)\n",
    "    plt.hist(work_df.iloc[:,i])\n",
    "    plt.title(work_df.columns[i],loc='center')"
   ]
  },
  {
   "cell_type": "markdown",
   "metadata": {},
   "source": [
    "#### The graphs above are standardized arround Zero mean and sd=1"
   ]
  },
  {
   "cell_type": "code",
   "execution_count": 23,
   "metadata": {},
   "outputs": [],
   "source": [
    "work_df.tail()"
   ]
  },
  {
   "cell_type": "code",
   "execution_count": 284,
   "metadata": {},
   "outputs": [],
   "source": [
    "# Now we randomize the data \n",
    "#from sklearn.utils import shuffle\n"
   ]
  },
  {
   "cell_type": "markdown",
   "metadata": {},
   "source": [
    "### the random state used in 42 and should be preserved\n",
    "#### at this stage we sample over all the popolation, i.e. the 7 faults and the Normal state. this is not great approach as we should sample for each dataframe to keep the same proportionality between all the samples\n",
    "#### The standardization is not done for the fault data is not performed here. also I am using all the 7 faults in the DF. \n"
   ]
  },
  {
   "cell_type": "code",
   "execution_count": 36,
   "metadata": {},
   "outputs": [],
   "source": [
    "# Shuffling the data\n",
    "\n",
    "work_df_shuffle=shuffle(work_df, random_state=42) "
   ]
  },
  {
   "cell_type": "code",
   "execution_count": 37,
   "metadata": {},
   "outputs": [
    {
     "data": {
      "text/html": [
       "<div>\n",
       "<style scoped>\n",
       "    .dataframe tbody tr th:only-of-type {\n",
       "        vertical-align: middle;\n",
       "    }\n",
       "\n",
       "    .dataframe tbody tr th {\n",
       "        vertical-align: top;\n",
       "    }\n",
       "\n",
       "    .dataframe thead th {\n",
       "        text-align: right;\n",
       "    }\n",
       "</style>\n",
       "<table border=\"1\" class=\"dataframe\">\n",
       "  <thead>\n",
       "    <tr style=\"text-align: right;\">\n",
       "      <th></th>\n",
       "      <th>XMEAS_1</th>\n",
       "      <th>XMEAS_2</th>\n",
       "      <th>XMEAS_3</th>\n",
       "      <th>XMEAS_4</th>\n",
       "      <th>XMEAS_5</th>\n",
       "      <th>XMEAS_6</th>\n",
       "      <th>XMEAS_7</th>\n",
       "      <th>XMEAS_8</th>\n",
       "      <th>XMEAS_9</th>\n",
       "      <th>XMEAS_10</th>\n",
       "      <th>...</th>\n",
       "      <th>XMV_3</th>\n",
       "      <th>XMV_4</th>\n",
       "      <th>XMV_5</th>\n",
       "      <th>XMV_6</th>\n",
       "      <th>XMV_7</th>\n",
       "      <th>XMV_8</th>\n",
       "      <th>XMV_9</th>\n",
       "      <th>XMV_10</th>\n",
       "      <th>XMV_11</th>\n",
       "      <th>label</th>\n",
       "    </tr>\n",
       "  </thead>\n",
       "  <tbody>\n",
       "    <tr>\n",
       "      <th>3315</th>\n",
       "      <td>-0.141567</td>\n",
       "      <td>1.851457</td>\n",
       "      <td>0.140754</td>\n",
       "      <td>-0.067979</td>\n",
       "      <td>-0.215989</td>\n",
       "      <td>1.050031</td>\n",
       "      <td>0.332338</td>\n",
       "      <td>0.198008</td>\n",
       "      <td>0.443862</td>\n",
       "      <td>0.103813</td>\n",
       "      <td>...</td>\n",
       "      <td>-0.150617</td>\n",
       "      <td>-0.768630</td>\n",
       "      <td>0.091794</td>\n",
       "      <td>0.228584</td>\n",
       "      <td>-0.441638</td>\n",
       "      <td>-0.020281</td>\n",
       "      <td>-0.467757</td>\n",
       "      <td>-0.049908</td>\n",
       "      <td>-0.269246</td>\n",
       "      <td>d10</td>\n",
       "    </tr>\n",
       "    <tr>\n",
       "      <th>1760</th>\n",
       "      <td>-0.416368</td>\n",
       "      <td>1.273153</td>\n",
       "      <td>-0.027566</td>\n",
       "      <td>0.350494</td>\n",
       "      <td>0.781827</td>\n",
       "      <td>0.072548</td>\n",
       "      <td>-0.232057</td>\n",
       "      <td>0.211058</td>\n",
       "      <td>-0.445073</td>\n",
       "      <td>-0.029358</td>\n",
       "      <td>...</td>\n",
       "      <td>-0.427154</td>\n",
       "      <td>-0.443020</td>\n",
       "      <td>-0.209780</td>\n",
       "      <td>-0.031300</td>\n",
       "      <td>-0.919926</td>\n",
       "      <td>-0.366736</td>\n",
       "      <td>0.128061</td>\n",
       "      <td>-0.311360</td>\n",
       "      <td>-1.039383</td>\n",
       "      <td>d09</td>\n",
       "    </tr>\n",
       "    <tr>\n",
       "      <th>4302</th>\n",
       "      <td>-0.376729</td>\n",
       "      <td>1.700125</td>\n",
       "      <td>0.170617</td>\n",
       "      <td>0.164902</td>\n",
       "      <td>0.229046</td>\n",
       "      <td>0.163126</td>\n",
       "      <td>0.105942</td>\n",
       "      <td>-0.295097</td>\n",
       "      <td>-0.445073</td>\n",
       "      <td>-0.372392</td>\n",
       "      <td>...</td>\n",
       "      <td>-0.395346</td>\n",
       "      <td>0.296072</td>\n",
       "      <td>-0.029584</td>\n",
       "      <td>-0.463837</td>\n",
       "      <td>0.436166</td>\n",
       "      <td>-0.392939</td>\n",
       "      <td>-0.601604</td>\n",
       "      <td>-0.213382</td>\n",
       "      <td>0.796499</td>\n",
       "      <td>d10</td>\n",
       "    </tr>\n",
       "    <tr>\n",
       "      <th>756</th>\n",
       "      <td>3.702640</td>\n",
       "      <td>-1.086006</td>\n",
       "      <td>-0.820299</td>\n",
       "      <td>-1.827976</td>\n",
       "      <td>1.212808</td>\n",
       "      <td>0.887746</td>\n",
       "      <td>-1.950753</td>\n",
       "      <td>-0.315604</td>\n",
       "      <td>0.888329</td>\n",
       "      <td>2.408146</td>\n",
       "      <td>...</td>\n",
       "      <td>3.701320</td>\n",
       "      <td>-1.829559</td>\n",
       "      <td>-1.452971</td>\n",
       "      <td>2.701322</td>\n",
       "      <td>0.415891</td>\n",
       "      <td>0.701326</td>\n",
       "      <td>1.686231</td>\n",
       "      <td>0.101318</td>\n",
       "      <td>3.230081</td>\n",
       "      <td>d08</td>\n",
       "    </tr>\n",
       "    <tr>\n",
       "      <th>4207</th>\n",
       "      <td>0.313614</td>\n",
       "      <td>-0.237466</td>\n",
       "      <td>-0.156521</td>\n",
       "      <td>0.429460</td>\n",
       "      <td>1.414245</td>\n",
       "      <td>-0.576591</td>\n",
       "      <td>0.284508</td>\n",
       "      <td>0.107590</td>\n",
       "      <td>0.888329</td>\n",
       "      <td>0.245013</td>\n",
       "      <td>...</td>\n",
       "      <td>0.292657</td>\n",
       "      <td>1.544065</td>\n",
       "      <td>0.726490</td>\n",
       "      <td>0.028360</td>\n",
       "      <td>0.643236</td>\n",
       "      <td>1.518593</td>\n",
       "      <td>1.253625</td>\n",
       "      <td>0.431461</td>\n",
       "      <td>-0.557723</td>\n",
       "      <td>d10</td>\n",
       "    </tr>\n",
       "  </tbody>\n",
       "</table>\n",
       "<p>5 rows × 53 columns</p>\n",
       "</div>"
      ],
      "text/plain": [
       "       XMEAS_1   XMEAS_2   XMEAS_3   XMEAS_4   XMEAS_5   XMEAS_6   XMEAS_7  \\\n",
       "3315 -0.141567  1.851457  0.140754 -0.067979 -0.215989  1.050031  0.332338   \n",
       "1760 -0.416368  1.273153 -0.027566  0.350494  0.781827  0.072548 -0.232057   \n",
       "4302 -0.376729  1.700125  0.170617  0.164902  0.229046  0.163126  0.105942   \n",
       "756   3.702640 -1.086006 -0.820299 -1.827976  1.212808  0.887746 -1.950753   \n",
       "4207  0.313614 -0.237466 -0.156521  0.429460  1.414245 -0.576591  0.284508   \n",
       "\n",
       "       XMEAS_8   XMEAS_9  XMEAS_10  ...     XMV_3     XMV_4     XMV_5  \\\n",
       "3315  0.198008  0.443862  0.103813  ... -0.150617 -0.768630  0.091794   \n",
       "1760  0.211058 -0.445073 -0.029358  ... -0.427154 -0.443020 -0.209780   \n",
       "4302 -0.295097 -0.445073 -0.372392  ... -0.395346  0.296072 -0.029584   \n",
       "756  -0.315604  0.888329  2.408146  ...  3.701320 -1.829559 -1.452971   \n",
       "4207  0.107590  0.888329  0.245013  ...  0.292657  1.544065  0.726490   \n",
       "\n",
       "         XMV_6     XMV_7     XMV_8     XMV_9    XMV_10    XMV_11  label  \n",
       "3315  0.228584 -0.441638 -0.020281 -0.467757 -0.049908 -0.269246    d10  \n",
       "1760 -0.031300 -0.919926 -0.366736  0.128061 -0.311360 -1.039383    d09  \n",
       "4302 -0.463837  0.436166 -0.392939 -0.601604 -0.213382  0.796499    d10  \n",
       "756   2.701322  0.415891  0.701326  1.686231  0.101318  3.230081    d08  \n",
       "4207  0.028360  0.643236  1.518593  1.253625  0.431461 -0.557723    d10  \n",
       "\n",
       "[5 rows x 53 columns]"
      ]
     },
     "execution_count": 37,
     "metadata": {},
     "output_type": "execute_result"
    }
   ],
   "source": [
    "work_df_shuffle[0:5]"
   ]
  },
  {
   "cell_type": "code",
   "execution_count": 289,
   "metadata": {},
   "outputs": [],
   "source": [
    "# final_df=pd.concat([Train_N,Test_N],axis=0,join='outer',ignore_index=True)\n",
    "\n",
    "# final_df=pd.DataFrame(np.row_stack([final_df.columns,final_df.values]),columns=label).drop([0])\n",
    "\n",
    "# #final_df."
   ]
  },
  {
   "cell_type": "code",
   "execution_count": 300,
   "metadata": {},
   "outputs": [],
   "source": [
    "# work_df_shuffle=work_df_shuffle.reset_index(drop=True)"
   ]
  },
  {
   "cell_type": "code",
   "execution_count": 11,
   "metadata": {},
   "outputs": [],
   "source": [
    "# work_df_shuffle.head()"
   ]
  },
  {
   "cell_type": "code",
   "execution_count": 38,
   "metadata": {},
   "outputs": [],
   "source": [
    "# export the whole construcetd data the CSV for future use\n",
    "work_df_shuffle.to_csv(\"C:\\\\Users\\\\elmor\\\\My project\\\\capstonre-2019\\\\Ryerson-data-Science-certificate-capstone\\\\data\\\\processed data\\\\export_random_anom_std_cat.csv\",index=False)"
   ]
  },
  {
   "cell_type": "markdown",
   "metadata": {},
   "source": [
    "### Create binary class for the random anomalies"
   ]
  },
  {
   "cell_type": "code",
   "execution_count": 14,
   "metadata": {},
   "outputs": [],
   "source": [
    "# Import the data\n",
    "\n",
    "#test=pd.read_csv('C:\\\\Users\\\\elmor\\\\My project\\\\capstonre-2019\\\\Ryerson-data-Science-certificate-capstone\\\\data\\\\TE_process\\\\d00.dat',header=None,delim_whitespace=True)   #using the delim parametr\n",
    "#data_label=0\n",
    "\n",
    "temp_df=[]\n",
    "\n",
    "label=['XMEAS_1','XMEAS_2','XMEAS_3','XMEAS_4','XMEAS_5','XMEAS_6','XMEAS_7','XMEAS_8','XMEAS_9',\\\n",
    "       'XMEAS_10','XMEAS_11','XMEAS_12','XMEAS_13','XMEAS_14','XMEAS_15','XMEAS_16','XMEAS_17',\\\n",
    "       'XMEAS_18','XMEAS_19','XMEAS_20','XMEAS_21','XMEAS_22','XMEAS_23','XMEAS_24','XMEAS_25','XMEAS_26',\\\n",
    "       'XMEAS_27','XMEAS_28','XMEAS_29','XMEAS_30','XMEAS_31','XMEAS_32','XMEAS_33','XMEAS_34','XMEAS_35',\\\n",
    "       'XMEAS_36','XMEAS_37','XMEAS_38','XMEAS_39','XMEAS_40','XMEAS_41','XMV_1','XMV_2','XMV_3','XMV_4',\\\n",
    "       'XMV_5','XMV_6','XMV_7','XMV_8','XMV_9','XMV_10','XMV_11'\n",
    "]\n",
    "DATADIR=\"C:\\\\Users\\\\elmor\\\\My project\\\\capstonre-2019\\\\Ryerson-data-Science-certificate-capstone\\\\data\\\\processed data\\\\Random anomalies\"\n",
    "\n",
    "test=os.listdir(DATADIR)\n",
    "\n",
    "\n",
    "for category in test[0:9]:\n",
    "    data_load=pd.read_csv(os.path.join(DATADIR,category),header=None,delim_whitespace=True)\n",
    "    if category[4:6]=='te':\n",
    "        data_load_tn=data_load[:160]\n",
    "        data_load_tn=pd.DataFrame(np.row_stack([data_load_tn.columns,data_load_tn.values]),columns=label).drop([0])\n",
    "        data_load_tn['label']=\"Norm\"\n",
    "        temp_df.append(data_load_tn)\n",
    "        \n",
    "        data_load_tf=data_load[160:]\n",
    "        data_load_tf=pd.DataFrame(np.row_stack([data_load_tf.columns,data_load_tf.values]),columns=label).drop([0])\n",
    "        data_load_tf['label']=\"Fault\"\n",
    "        temp_df.append(data_load_tf)\n",
    "    else:\n",
    "        data_load_tr=pd.DataFrame(np.row_stack([data_load.columns,data_load.values]),columns=label).drop([0])\n",
    "        data_load_tr['label']=\"Fault\"\n",
    "        temp_df.append(data_load_tr)\n",
    "        "
   ]
  },
  {
   "cell_type": "code",
   "execution_count": 17,
   "metadata": {},
   "outputs": [],
   "source": [
    "# Show the data list sample\n",
    "temp_df[2]"
   ]
  },
  {
   "cell_type": "code",
   "execution_count": 18,
   "metadata": {},
   "outputs": [],
   "source": [
    "# join all the datasets into one\n",
    "work_df=pd.concat(temp_df,axis=0,join='outer',ignore_index=True)"
   ]
  },
  {
   "cell_type": "code",
   "execution_count": 21,
   "metadata": {},
   "outputs": [],
   "source": [
    "# Standardization mean=0 and sd =1\n",
    "\n",
    "names=work_df.iloc[:,:-1].columns\n",
    "scaler=preprocessing.StandardScaler()\n",
    "scal_train=scaler.fit_transform(work_df.iloc[:,:-1])\n",
    "work_df.iloc[:,:-1]=pd.DataFrame(scal_train,columns=names)"
   ]
  },
  {
   "cell_type": "code",
   "execution_count": 20,
   "metadata": {},
   "outputs": [],
   "source": [
    "#work_df.iloc[1,:]"
   ]
  },
  {
   "cell_type": "code",
   "execution_count": 22,
   "metadata": {},
   "outputs": [
    {
     "data": {
      "image/png": "[encoded data removed]",
      "text/plain": [
       "<Figure size 1080x1800 with 10 Axes>"
      ]
     },
     "metadata": {
      "needs_background": "light"
     },
     "output_type": "display_data"
    }
   ],
   "source": [
    "# Plot samples of new data for display\n",
    "\n",
    "fig=plt.figure(figsize=(15,25))\n",
    "fig.subplots_adjust(wspace=0.2,hspace=1)\n",
    "for i in range(0,10):\n",
    "    plt.subplot(18,3,i+1)\n",
    "    plt.hist(work_df.iloc[:,i])\n",
    "    plt.title(work_df.columns[i],loc='center')"
   ]
  },
  {
   "cell_type": "code",
   "execution_count": 25,
   "metadata": {},
   "outputs": [],
   "source": [
    "#work_df.tail()"
   ]
  },
  {
   "cell_type": "code",
   "execution_count": 26,
   "metadata": {},
   "outputs": [],
   "source": [
    "\n",
    "# Randomize the data --> Shuffling the data\n",
    "\n",
    "work_df_shuffle=shuffle(work_df, random_state=42) "
   ]
  },
  {
   "cell_type": "code",
   "execution_count": 30,
   "metadata": {},
   "outputs": [],
   "source": [
    "#work_df_shuffle[0:50]"
   ]
  },
  {
   "cell_type": "code",
   "execution_count": 31,
   "metadata": {},
   "outputs": [],
   "source": [
    "# export the whole construcetd data the CSV for future use\n",
    "work_df_shuffle.to_csv(\"C:\\\\Users\\\\elmor\\\\My project\\\\capstonre-2019\\\\Ryerson-data-Science-certificate-capstone\\\\data\\\\processed data\\\\Faults processed\\\\Cross Project Valudation Data\\\\Python\\\\new_export_random_anom_std_binary.csv\",index=False)"
   ]
  },
  {
   "cell_type": "markdown",
   "metadata": {},
   "source": [
    "### Create Binary Class for the 7 Anomalies"
   ]
  },
  {
   "cell_type": "code",
   "execution_count": null,
   "metadata": {},
   "outputs": [],
   "source": []
  },
  {
   "cell_type": "code",
   "execution_count": 32,
   "metadata": {},
   "outputs": [],
   "source": [
    "# Import the data\n",
    "\n",
    "#test=pd.read_csv('C:\\\\Users\\\\elmor\\\\My project\\\\capstonre-2019\\\\Ryerson-data-Science-certificate-capstone\\\\data\\\\TE_process\\\\d00.dat',header=None,delim_whitespace=True)   #using the delim parametr\n",
    "#data_label=0\n",
    "\n",
    "temp_df=[]\n",
    "\n",
    "label=['XMEAS_1','XMEAS_2','XMEAS_3','XMEAS_4','XMEAS_5','XMEAS_6','XMEAS_7','XMEAS_8','XMEAS_9',\\\n",
    "       'XMEAS_10','XMEAS_11','XMEAS_12','XMEAS_13','XMEAS_14','XMEAS_15','XMEAS_16','XMEAS_17',\\\n",
    "       'XMEAS_18','XMEAS_19','XMEAS_20','XMEAS_21','XMEAS_22','XMEAS_23','XMEAS_24','XMEAS_25','XMEAS_26',\\\n",
    "       'XMEAS_27','XMEAS_28','XMEAS_29','XMEAS_30','XMEAS_31','XMEAS_32','XMEAS_33','XMEAS_34','XMEAS_35',\\\n",
    "       'XMEAS_36','XMEAS_37','XMEAS_38','XMEAS_39','XMEAS_40','XMEAS_41','XMV_1','XMV_2','XMV_3','XMV_4',\\\n",
    "       'XMV_5','XMV_6','XMV_7','XMV_8','XMV_9','XMV_10','XMV_11'\n",
    "]\n",
    "\n",
    "DATADIR=\"C:\\\\Users\\\\elmor\\\\My project\\\\capstonre-2019\\\\Ryerson-data-Science-certificate-capstone\\\\data\\\\processed data\\\\7 first ananomalies\"\n",
    "\n",
    "test=os.listdir(DATADIR)\n",
    "\n",
    "# load the Norml data training and testing\n",
    "# when we are loading the other anomalies we will not load the Normal anomalies given that the model knew them\n",
    "\n",
    "Train_N=pd.read_csv('C:\\\\Users\\\\elmor\\\\My project\\\\capstonre-2019\\\\Ryerson-data-Science-certificate-capstone\\\\data\\\\processed data\\\\7 first ananomalies\\\\d00.dat',header=None,delim_whitespace=True).transpose()   #using the delim parametr\n",
    "\n",
    "# ----- train=test.transpose()\n",
    "\n",
    "Test_N=pd.read_csv('C:\\\\Users\\\\elmor\\\\My project\\\\capstonre-2019\\\\Ryerson-data-Science-certificate-capstone\\\\data\\\\processed data\\\\7 first ananomalies\\\\d00_te.dat',header=None,delim_whitespace=True)   #using the delim parametr\n",
    "\n",
    "\n",
    "final_df=pd.concat([Train_N,Test_N],axis=0,join='outer',ignore_index=True)\n",
    "\n",
    "final_df=pd.DataFrame(np.row_stack([final_df.columns,final_df.values]),columns=label).drop([0])\n",
    "\n",
    "final_df['label']=\"Norm\"\n",
    "\n",
    "\n",
    "temp_df.append(final_df)\n",
    "\n",
    "#---- final_df=[Train_N,Test_N]\n",
    "\n",
    "for category in test[2:15]:\n",
    "    data_load=pd.read_csv(os.path.join(DATADIR,category),header=None,delim_whitespace=True)\n",
    "    if category[4:6]=='te':\n",
    "        data_load_tn=data_load[:160]\n",
    "        data_load_tn=pd.DataFrame(np.row_stack([data_load_tn.columns,data_load_tn.values]),columns=label).drop([0])\n",
    "        data_load_tn['label']=\"Norm\"\n",
    "        temp_df.append(data_load_tn)\n",
    "        \n",
    "        data_load_tf=data_load[160:]\n",
    "        data_load_tf=pd.DataFrame(np.row_stack([data_load_tf.columns,data_load_tf.values]),columns=label).drop([0])\n",
    "        data_load_tf['label']=\"Fault\"\n",
    "        temp_df.append(data_load_tf)\n",
    "    else:\n",
    "        data_load_tr=pd.DataFrame(np.row_stack([data_load.columns,data_load.values]),columns=label).drop([0])\n",
    "        data_load_tr['label']=\"Fault\"\n",
    "        temp_df.append(data_load_tr)"
   ]
  },
  {
   "cell_type": "code",
   "execution_count": 61,
   "metadata": {},
   "outputs": [
    {
     "data": {
      "text/plain": [
       "(800, 53)"
      ]
     },
     "execution_count": 61,
     "metadata": {},
     "output_type": "execute_result"
    }
   ],
   "source": [
    "temp_df[3].shape"
   ]
  },
  {
   "cell_type": "code",
   "execution_count": 63,
   "metadata": {},
   "outputs": [],
   "source": [
    "# Show the data list sample\n",
    "temp_df[2]"
   ]
  },
  {
   "cell_type": "code",
   "execution_count": 64,
   "metadata": {},
   "outputs": [],
   "source": [
    "# join all the datasets into one\n",
    "work_df=pd.concat(temp_df,axis=0,join='outer',ignore_index=True)"
   ]
  },
  {
   "cell_type": "code",
   "execution_count": 65,
   "metadata": {},
   "outputs": [
    {
     "data": {
      "text/plain": [
       "(10580, 53)"
      ]
     },
     "execution_count": 65,
     "metadata": {},
     "output_type": "execute_result"
    }
   ],
   "source": [
    "work_df.shape"
   ]
  },
  {
   "cell_type": "code",
   "execution_count": 69,
   "metadata": {},
   "outputs": [
    {
     "data": {
      "text/html": [
       "<div>\n",
       "<style scoped>\n",
       "    .dataframe tbody tr th:only-of-type {\n",
       "        vertical-align: middle;\n",
       "    }\n",
       "\n",
       "    .dataframe tbody tr th {\n",
       "        vertical-align: top;\n",
       "    }\n",
       "\n",
       "    .dataframe thead th {\n",
       "        text-align: right;\n",
       "    }\n",
       "</style>\n",
       "<table border=\"1\" class=\"dataframe\">\n",
       "  <thead>\n",
       "    <tr style=\"text-align: right;\">\n",
       "      <th></th>\n",
       "      <th>XMEAS_1</th>\n",
       "      <th>XMEAS_2</th>\n",
       "      <th>XMEAS_3</th>\n",
       "      <th>XMEAS_4</th>\n",
       "      <th>XMEAS_5</th>\n",
       "      <th>XMEAS_6</th>\n",
       "      <th>XMEAS_7</th>\n",
       "      <th>XMEAS_8</th>\n",
       "      <th>XMEAS_9</th>\n",
       "      <th>XMEAS_10</th>\n",
       "      <th>...</th>\n",
       "      <th>XMV_3</th>\n",
       "      <th>XMV_4</th>\n",
       "      <th>XMV_5</th>\n",
       "      <th>XMV_6</th>\n",
       "      <th>XMV_7</th>\n",
       "      <th>XMV_8</th>\n",
       "      <th>XMV_9</th>\n",
       "      <th>XMV_10</th>\n",
       "      <th>XMV_11</th>\n",
       "      <th>label</th>\n",
       "    </tr>\n",
       "  </thead>\n",
       "  <tbody>\n",
       "    <tr>\n",
       "      <th>10575</th>\n",
       "      <td>-0.342108</td>\n",
       "      <td>-0.758930</td>\n",
       "      <td>-0.093570</td>\n",
       "      <td>-0.125114</td>\n",
       "      <td>2.011143</td>\n",
       "      <td>1.119374</td>\n",
       "      <td>-0.434009</td>\n",
       "      <td>0.283087</td>\n",
       "      <td>-0.068447</td>\n",
       "      <td>-0.289779</td>\n",
       "      <td>...</td>\n",
       "      <td>-0.685457</td>\n",
       "      <td>1.297363</td>\n",
       "      <td>-0.058860</td>\n",
       "      <td>-0.086905</td>\n",
       "      <td>0.697881</td>\n",
       "      <td>0.595145</td>\n",
       "      <td>-0.112953</td>\n",
       "      <td>-0.417044</td>\n",
       "      <td>-0.449682</td>\n",
       "      <td>Fault</td>\n",
       "    </tr>\n",
       "    <tr>\n",
       "      <th>10576</th>\n",
       "      <td>-0.206978</td>\n",
       "      <td>-0.449107</td>\n",
       "      <td>0.268998</td>\n",
       "      <td>0.191562</td>\n",
       "      <td>-1.007345</td>\n",
       "      <td>-0.856482</td>\n",
       "      <td>-0.393612</td>\n",
       "      <td>-0.747028</td>\n",
       "      <td>0.438555</td>\n",
       "      <td>-0.246496</td>\n",
       "      <td>...</td>\n",
       "      <td>-0.582277</td>\n",
       "      <td>1.002316</td>\n",
       "      <td>-0.103849</td>\n",
       "      <td>-0.074861</td>\n",
       "      <td>-2.256276</td>\n",
       "      <td>1.156618</td>\n",
       "      <td>-0.106241</td>\n",
       "      <td>-0.369781</td>\n",
       "      <td>-0.321868</td>\n",
       "      <td>Fault</td>\n",
       "    </tr>\n",
       "    <tr>\n",
       "      <th>10577</th>\n",
       "      <td>-0.207919</td>\n",
       "      <td>-0.900209</td>\n",
       "      <td>0.098330</td>\n",
       "      <td>0.708206</td>\n",
       "      <td>-1.575827</td>\n",
       "      <td>-0.763927</td>\n",
       "      <td>-0.387061</td>\n",
       "      <td>-0.519630</td>\n",
       "      <td>0.185054</td>\n",
       "      <td>-0.215244</td>\n",
       "      <td>...</td>\n",
       "      <td>-0.581590</td>\n",
       "      <td>0.901689</td>\n",
       "      <td>-0.134598</td>\n",
       "      <td>-0.101099</td>\n",
       "      <td>-0.891276</td>\n",
       "      <td>-0.797505</td>\n",
       "      <td>-0.121935</td>\n",
       "      <td>-0.372212</td>\n",
       "      <td>-0.339475</td>\n",
       "      <td>Fault</td>\n",
       "    </tr>\n",
       "    <tr>\n",
       "      <th>10578</th>\n",
       "      <td>-0.379790</td>\n",
       "      <td>0.574549</td>\n",
       "      <td>0.090980</td>\n",
       "      <td>-0.072097</td>\n",
       "      <td>-1.279009</td>\n",
       "      <td>-0.852458</td>\n",
       "      <td>-0.373959</td>\n",
       "      <td>-0.112587</td>\n",
       "      <td>0.354055</td>\n",
       "      <td>-0.206650</td>\n",
       "      <td>...</td>\n",
       "      <td>-0.707234</td>\n",
       "      <td>1.186673</td>\n",
       "      <td>-0.094650</td>\n",
       "      <td>-0.031417</td>\n",
       "      <td>1.037812</td>\n",
       "      <td>-0.544135</td>\n",
       "      <td>-0.109118</td>\n",
       "      <td>-0.310361</td>\n",
       "      <td>-0.359218</td>\n",
       "      <td>Fault</td>\n",
       "    </tr>\n",
       "    <tr>\n",
       "      <th>10579</th>\n",
       "      <td>-0.375532</td>\n",
       "      <td>0.346519</td>\n",
       "      <td>0.220819</td>\n",
       "      <td>-0.089532</td>\n",
       "      <td>-2.370696</td>\n",
       "      <td>-1.403766</td>\n",
       "      <td>-0.393612</td>\n",
       "      <td>-0.996030</td>\n",
       "      <td>0.354055</td>\n",
       "      <td>-0.199619</td>\n",
       "      <td>...</td>\n",
       "      <td>-0.710267</td>\n",
       "      <td>1.267934</td>\n",
       "      <td>-0.126406</td>\n",
       "      <td>-0.037331</td>\n",
       "      <td>1.123674</td>\n",
       "      <td>1.510188</td>\n",
       "      <td>-0.109168</td>\n",
       "      <td>-0.361004</td>\n",
       "      <td>-0.149706</td>\n",
       "      <td>Fault</td>\n",
       "    </tr>\n",
       "  </tbody>\n",
       "</table>\n",
       "<p>5 rows × 53 columns</p>\n",
       "</div>"
      ],
      "text/plain": [
       "        XMEAS_1   XMEAS_2   XMEAS_3   XMEAS_4   XMEAS_5   XMEAS_6   XMEAS_7  \\\n",
       "10575 -0.342108 -0.758930 -0.093570 -0.125114  2.011143  1.119374 -0.434009   \n",
       "10576 -0.206978 -0.449107  0.268998  0.191562 -1.007345 -0.856482 -0.393612   \n",
       "10577 -0.207919 -0.900209  0.098330  0.708206 -1.575827 -0.763927 -0.387061   \n",
       "10578 -0.379790  0.574549  0.090980 -0.072097 -1.279009 -0.852458 -0.373959   \n",
       "10579 -0.375532  0.346519  0.220819 -0.089532 -2.370696 -1.403766 -0.393612   \n",
       "\n",
       "        XMEAS_8   XMEAS_9  XMEAS_10  ...     XMV_3     XMV_4     XMV_5  \\\n",
       "10575  0.283087 -0.068447 -0.289779  ... -0.685457  1.297363 -0.058860   \n",
       "10576 -0.747028  0.438555 -0.246496  ... -0.582277  1.002316 -0.103849   \n",
       "10577 -0.519630  0.185054 -0.215244  ... -0.581590  0.901689 -0.134598   \n",
       "10578 -0.112587  0.354055 -0.206650  ... -0.707234  1.186673 -0.094650   \n",
       "10579 -0.996030  0.354055 -0.199619  ... -0.710267  1.267934 -0.126406   \n",
       "\n",
       "          XMV_6     XMV_7     XMV_8     XMV_9    XMV_10    XMV_11  label  \n",
       "10575 -0.086905  0.697881  0.595145 -0.112953 -0.417044 -0.449682  Fault  \n",
       "10576 -0.074861 -2.256276  1.156618 -0.106241 -0.369781 -0.321868  Fault  \n",
       "10577 -0.101099 -0.891276 -0.797505 -0.121935 -0.372212 -0.339475  Fault  \n",
       "10578 -0.031417  1.037812 -0.544135 -0.109118 -0.310361 -0.359218  Fault  \n",
       "10579 -0.037331  1.123674  1.510188 -0.109168 -0.361004 -0.149706  Fault  \n",
       "\n",
       "[5 rows x 53 columns]"
      ]
     },
     "execution_count": 69,
     "metadata": {},
     "output_type": "execute_result"
    }
   ],
   "source": [
    "#work_df.tail()"
   ]
  },
  {
   "cell_type": "code",
   "execution_count": 66,
   "metadata": {},
   "outputs": [],
   "source": [
    "# Standardization mean=0 and sd =1\n",
    "\n",
    "names=work_df.iloc[:,:-1].columns\n",
    "scaler=preprocessing.StandardScaler()\n",
    "scal_train=scaler.fit_transform(work_df.iloc[:,:-1])\n",
    "work_df.iloc[:,:-1]=pd.DataFrame(scal_train,columns=names)"
   ]
  },
  {
   "cell_type": "code",
   "execution_count": 67,
   "metadata": {},
   "outputs": [
    {
     "data": {
      "image/png": "[encoded data removed]",
      "text/plain": [
       "<Figure size 1080x1800 with 10 Axes>"
      ]
     },
     "metadata": {
      "needs_background": "light"
     },
     "output_type": "display_data"
    }
   ],
   "source": [
    "# Plot samples of new data for display\n",
    "\n",
    "fig=plt.figure(figsize=(15,25))\n",
    "fig.subplots_adjust(wspace=0.2,hspace=1)\n",
    "for i in range(0,10):\n",
    "    plt.subplot(18,3,i+1)\n",
    "    plt.hist(work_df.iloc[:,i])\n",
    "    plt.title(work_df.columns[i],loc='center')"
   ]
  },
  {
   "cell_type": "code",
   "execution_count": 70,
   "metadata": {},
   "outputs": [],
   "source": [
    "# Randomize the data --> Shuffling the data\n",
    "\n",
    "work_df_shuffle=shuffle(work_df, random_state=42) "
   ]
  },
  {
   "cell_type": "code",
   "execution_count": 72,
   "metadata": {},
   "outputs": [],
   "source": [
    "#work_df_shuffle.head(20)"
   ]
  },
  {
   "cell_type": "code",
   "execution_count": 73,
   "metadata": {},
   "outputs": [],
   "source": [
    "# export the whole construcetd data the CSV for future use\n",
    "work_df_shuffle.to_csv(\"C:\\\\Users\\\\elmor\\\\My project\\\\capstonre-2019\\\\Ryerson-data-Science-certificate-capstone\\\\data\\\\processed data\\\\Faults processed\\\\Cross Project Valudation Data\\\\Python\\\\new_export_7_anom_std_binary.csv\",index=False)"
   ]
  },
  {
   "cell_type": "code",
   "execution_count": null,
   "metadata": {},
   "outputs": [],
   "source": [
    "# (X_train,X_test,Y_train,Y_test)=train_test_split(work_df_shuffle,work_label,test_size=0.2)"
   ]
  },
  {
   "cell_type": "code",
   "execution_count": null,
   "metadata": {},
   "outputs": [],
   "source": []
  },
  {
   "cell_type": "code",
   "execution_count": null,
   "metadata": {},
   "outputs": [],
   "source": []
  },
  {
   "cell_type": "code",
   "execution_count": null,
   "metadata": {},
   "outputs": [],
   "source": []
  },
  {
   "cell_type": "code",
   "execution_count": null,
   "metadata": {},
   "outputs": [],
   "source": []
  },
  {
   "cell_type": "code",
   "execution_count": null,
   "metadata": {},
   "outputs": [],
   "source": []
  },
  {
   "cell_type": "code",
   "execution_count": null,
   "metadata": {},
   "outputs": [],
   "source": []
  },
  {
   "cell_type": "markdown",
   "metadata": {},
   "source": [
    "### creating Training and testing sets 70/30 split\n",
    "\n"
   ]
  },
  {
   "cell_type": "code",
   "execution_count": null,
   "metadata": {},
   "outputs": [],
   "source": []
  },
  {
   "cell_type": "code",
   "execution_count": 74,
   "metadata": {},
   "outputs": [],
   "source": [
    "# define the labels\n",
    "\n",
    "#work_label=work_df_shuffle['label']"
   ]
  },
  {
   "cell_type": "code",
   "execution_count": 75,
   "metadata": {},
   "outputs": [],
   "source": [
    "#work_df_shuffle.to_csv(\"C:\\\\Users\\\\elmor\\\\My project\\\\capstonre-2019\\\\Ryerson-data-Science-certificate-capstone\\\\data\\\\processed data\\\\export_7_anom.csv\",index=False)"
   ]
  },
  {
   "cell_type": "code",
   "execution_count": null,
   "metadata": {},
   "outputs": [],
   "source": []
  },
  {
   "cell_type": "code",
   "execution_count": 76,
   "metadata": {},
   "outputs": [],
   "source": [
    "# get the training and the testing datasets\n",
    "\n",
    "#(X_train,X_test,Y_train,Y_test)=train_test_split(work_df_shuffle,work_label,test_size=0.2)"
   ]
  },
  {
   "cell_type": "code",
   "execution_count": 82,
   "metadata": {},
   "outputs": [],
   "source": [
    "# print (X_train.shape, Y_train.shape)\n",
    "# print (X_test.shape, Y_test.shape)"
   ]
  },
  {
   "cell_type": "code",
   "execution_count": 368,
   "metadata": {},
   "outputs": [],
   "source": [
    "# from sklearn.svm import SVC\n",
    "\n",
    "# svm_model_linear=SVC(kernel='linear',C=1).fit(X_train,Y_train)\n"
   ]
  },
  {
   "cell_type": "code",
   "execution_count": 369,
   "metadata": {},
   "outputs": [],
   "source": [
    "# svm_predictions=svm_model_linear.predict(X_test)"
   ]
  },
  {
   "cell_type": "code",
   "execution_count": 370,
   "metadata": {},
   "outputs": [],
   "source": [
    "# model accuracy\n",
    "# accuracy=svm_model_linear.score(X_test,Y_test)"
   ]
  },
  {
   "cell_type": "code",
   "execution_count": 371,
   "metadata": {},
   "outputs": [],
   "source": [
    "# from sklearn.metrics import confusion_matrix"
   ]
  },
  {
   "cell_type": "code",
   "execution_count": 372,
   "metadata": {},
   "outputs": [],
   "source": [
    "# cm=confusion_matrix(Y_test,svm_predictions)"
   ]
  },
  {
   "cell_type": "code",
   "execution_count": 77,
   "metadata": {},
   "outputs": [],
   "source": [
    "# cm"
   ]
  },
  {
   "cell_type": "code",
   "execution_count": 329,
   "metadata": {},
   "outputs": [],
   "source": [
    "np.savetxt('C:\\\\Users\\\\elmor\\\\My project\\\\capstonre-2019\\\\Ryerson-data-Science-certificate-capstone\\\\data\\\\processed data\\\\labelexo1.txt',Y_test)"
   ]
  },
  {
   "cell_type": "code",
   "execution_count": 78,
   "metadata": {},
   "outputs": [],
   "source": [
    "# accuracy"
   ]
  },
  {
   "cell_type": "code",
   "execution_count": 79,
   "metadata": {},
   "outputs": [],
   "source": [
    "# decision tree classifier\n",
    "# from sklearn.tree import DecisionTreeClassifier \n",
    "\n",
    "# dtree_model = DecisionTreeClassifier(max_depth = 10).fit(X_train, Y_train) \n",
    "# dtree_predictions = dtree_model.predict(X_test) "
   ]
  },
  {
   "cell_type": "code",
   "execution_count": 80,
   "metadata": {},
   "outputs": [],
   "source": [
    "# cm=confusion_matrix(Y_test,dtree_predictions)"
   ]
  },
  {
   "cell_type": "code",
   "execution_count": 81,
   "metadata": {},
   "outputs": [],
   "source": [
    "# cm"
   ]
  },
  {
   "cell_type": "markdown",
   "metadata": {},
   "source": [
    "------------------------------\n",
    "-----------------------------"
   ]
  },
  {
   "cell_type": "markdown",
   "metadata": {},
   "source": [
    "###  <font color=red> we will address one faults - fault-1 here </font>"
   ]
  },
  {
   "cell_type": "code",
   "execution_count": 433,
   "metadata": {},
   "outputs": [],
   "source": [
    "# Create the list of all fault dataframes\n",
    "\n",
    "\"\"\"\n",
    "temp_df=[]\n",
    "\n",
    "label=['XMEAS_1','XMEAS_2','XMEAS_3','XMEAS_4','XMEAS_5','XMEAS_6','XMEAS_7','XMEAS_8','XMEAS_9',\\\n",
    "       'XMEAS_10','XMEAS_11','XMEAS_12','XMEAS_13','XMEAS_14','XMEAS_15','XMEAS_16','XMEAS_17',\\\n",
    "       'XMEAS_18','XMEAS_19','XMEAS_20','XMEAS_21','XMEAS_22','XMEAS_23','XMEAS_24','XMEAS_25','XMEAS_26',\\\n",
    "       'XMEAS_27','XMEAS_28','XMEAS_29','XMEAS_30','XMEAS_31','XMEAS_32','XMEAS_33','XMEAS_34','XMEAS_35',\\\n",
    "       'XMEAS_36','XMEAS_37','XMEAS_38','XMEAS_39','XMEAS_40','XMEAS_41','XMV_1','XMV_2','XMV_3','XMV_4',\\\n",
    "       'XMV_5','XMV_6','XMV_7','XMV_8','XMV_9','XMV_10','XMV_11'\n",
    "]\n",
    "DATADIR=\"C:\\\\Users\\\\elmor\\\\My project\\\\capstonre-2019\\\\Ryerson-data-Science-certificate-capstone\\\\data\\\\processed data\\\\7 first ananomalies\"\n",
    "\n",
    "test=os.listdir(DATADIR)\n",
    "\n",
    "# load the Norml data training and testing\n",
    "\n",
    "Train_N=pd.read_csv('C:\\\\Users\\\\elmor\\\\My project\\\\capstonre-2019\\\\Ryerson-data-Science-certificate-capstone\\\\data\\\\processed data\\\\7 first ananomalies\\\\d00.dat',header=None,delim_whitespace=True).transpose()   #using the delim parametr\n",
    "#train=test.transpose()\n",
    "Test_N=pd.read_csv('C:\\\\Users\\\\elmor\\\\My project\\\\capstonre-2019\\\\Ryerson-data-Science-certificate-capstone\\\\data\\\\processed data\\\\7 first ananomalies\\\\d00_te.dat',header=None,delim_whitespace=True)   #using the delim parametr\n",
    "\n",
    "\n",
    "final_df=pd.concat([Train_N,Test_N],axis=0,join='outer',ignore_index=True)\n",
    "\n",
    "final_df=pd.DataFrame(np.row_stack([final_df.columns,final_df.values]),columns=label).drop([0])\n",
    "\n",
    "final_df['label']='Norm'\n",
    "\n",
    "\n",
    "temp_df.append(final_df)\n",
    "\n",
    "fault_count=0\n",
    "#final_df=[Train_N,Test_N]\n",
    "\n",
    "for category in test[2:16]:\n",
    "        \n",
    "    data_load=pd.read_csv(os.path.join(DATADIR,category),header=None,delim_whitespace=True)\n",
    "    if category[4:6]=='te':\n",
    "        data_load_tn=data_load[:160]\n",
    "        data_load_tn=pd.DataFrame(np.row_stack([data_load_tn.columns,data_load_tn.values]),columns=label).drop([0])\n",
    "        data_load_tn['label']='Norm'\n",
    "        temp_df.append(data_load_tn)\n",
    "        \n",
    "        data_load_tf=data_load[160:]\n",
    "        data_load_tf=pd.DataFrame(np.row_stack([data_load_tf.columns,data_load_tf.values]),columns=label).drop([0])\n",
    "        data_load_tf['label']=[category[0:3]]*data_load_tf.shape[0]\n",
    "        temp_df.append(data_load_tf)\n",
    "         \n",
    "        # -- New to create 1 file for each faulty data\n",
    "        # -- the data is standardized as well \n",
    "        \n",
    "        fault_count+=1\n",
    "        work_df=pd.concat(temp_df,axis=0,join='outer',ignore_index=True) # create the DF\n",
    "        \n",
    "        #work_df_lab=work_df['label']\n",
    "        names=work_df.iloc[:,:-1].columns\n",
    "        scaler=preprocessing.StandardScaler()\n",
    "        scal_train=scaler.fit_transform(work_df.iloc[:,:-1])\n",
    "        work_df.iloc[:,:-1]=pd.DataFrame(scal_train,columns=names)\n",
    "        \n",
    "        work_df=shuffle(work_df, random_state=42) \n",
    "        work_df.to_csv(\"C:\\\\Users\\\\elmor\\\\My project\\\\capstonre-2019\\\\Ryerson-data-Science-certificate-capstone\\\\data\\\\processed data\\\\Faults processed\\\\fault0%s.csv\" %fault_count,index=False)\n",
    "        temp_df=[]\n",
    "        temp_df.append(final_df)\n",
    "        #-----------------\n",
    "    else:\n",
    "        data_load_tr=pd.DataFrame(np.row_stack([data_load.columns,data_load.values]),columns=label).drop([0])\n",
    "        data_load_tr['label']=[category[0:3]]*data_load_tr.shape[0]\n",
    "        temp_df.append(data_load_tr)\n",
    " \"\"\"\n"
   ]
  },
  {
   "cell_type": "code",
   "execution_count": 434,
   "metadata": {},
   "outputs": [],
   "source": [
    "#temp_df[2].tail()\n",
    "# fault_count = 2\n",
    "# temp_df[1].to_csv(\"C:\\\\Users\\\\elmor\\\\My project\\\\capstonre-2019\\\\Ryerson-data-Science-certificate-capstone\\\\data\\\\processed data\\\\fault%s.csv\" %fault_count,index=False)\n",
    "#work_df.iloc[:,:-1]\n"
   ]
  },
  {
   "cell_type": "code",
   "execution_count": null,
   "metadata": {},
   "outputs": [],
   "source": [
    "# concatenate into one dataframe per fault\n"
   ]
  },
  {
   "cell_type": "code",
   "execution_count": null,
   "metadata": {},
   "outputs": [],
   "source": []
  },
  {
   "cell_type": "code",
   "execution_count": null,
   "metadata": {},
   "outputs": [],
   "source": []
  },
  {
   "cell_type": "code",
   "execution_count": null,
   "metadata": {},
   "outputs": [],
   "source": []
  },
  {
   "cell_type": "code",
   "execution_count": null,
   "metadata": {},
   "outputs": [],
   "source": []
  }
 ],
 "metadata": {
  "celltoolbar": "Raw Cell Format",
  "kernelspec": {
   "display_name": "Python 3",
   "language": "python",
   "name": "python3"
  },
  "language_info": {
   "codemirror_mode": {
    "name": "ipython",
    "version": 3
   },
   "file_extension": ".py",
   "mimetype": "text/x-python",
   "name": "python",
   "nbconvert_exporter": "python",
   "pygments_lexer": "ipython3",
   "version": "3.6.8"
  }
 },
 "nbformat": 4,
 "nbformat_minor": 2
}
